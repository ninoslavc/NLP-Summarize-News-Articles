{
 "cells": [
  {
   "cell_type": "code",
   "execution_count": 1,
   "metadata": {
    "collapsed": true
   },
   "outputs": [],
   "source": [
    "import os\n",
    "path = '../../../datasets/cnn/stories/'"
   ]
  },
  {
   "cell_type": "code",
   "execution_count": null,
   "outputs": [],
   "source": [
    "entries = os.listdir(path)\n",
    "master_dict = {}\n",
    "for file in entries:\n",
    "    current = os.path.join(path,file)\n",
    "    if os.path.isfile(current):\n",
    "        story_list = []\n",
    "        story_string = \"\"\n",
    "        story_bool = True\n",
    "        master_list = []\n",
    "        with open(current, encoding=\"utf8\") as file_nm:\n",
    "            for line in file_nm:\n",
    "                line = line.replace(\"\\n\", \"\")\n",
    "                line = line.replace(\"\\'\", \" \")\n",
    "                if (line != \"@highlight\"):\n",
    "                    if   story_bool:\n",
    "                        if line == \"\":\n",
    "                            continue\n",
    "                        else:\n",
    "                            story_string =story_string+\" \"+line\n",
    "                    else:\n",
    "                        if line == \"\":\n",
    "                            continue\n",
    "                        else:\n",
    "                            story_list.append(line)\n",
    "                else:\n",
    "                    story_bool = False\n",
    "            master_list.append(story_string)\n",
    "            master_list.append(story_list)\n",
    "            master_dict[file] = master_list\n"
   ],
   "metadata": {
    "collapsed": false,
    "pycharm": {
     "name": "#%%\n",
     "is_executing": true
    }
   }
  },
  {
   "cell_type": "code",
   "execution_count": null,
   "outputs": [],
   "source": [
    "#for testing purposes\n",
    "from itertools import islice\n",
    "print(dict(islice(master_dict.items(), 5)))   # dict shortened\n",
    "print(list(islice(master_dict.values(), 5)))  # values shortened"
   ],
   "metadata": {
    "collapsed": false,
    "pycharm": {
     "name": "#%%\n",
     "is_executing": true
    }
   }
  },
  {
   "cell_type": "code",
   "execution_count": null,
   "outputs": [],
   "source": [
    "#for testing purposes - dummy example\n",
    "for k, v in master_dict.items():\n",
    "    if k=='0001d1afc246a7964130f43ae940af6bc6c57f01.story':\n",
    "        print(k, v)"
   ],
   "metadata": {
    "collapsed": false,
    "pycharm": {
     "name": "#%%\n",
     "is_executing": true
    }
   }
  },
  {
   "cell_type": "code",
   "execution_count": null,
   "outputs": [],
   "source": [
    "#serialization\n",
    "import pickle\n",
    "with open('master_dict.pkl', 'wb') as f:\n",
    "    pickle.dump(master_dict, f)\n"
   ],
   "metadata": {
    "collapsed": false,
    "pycharm": {
     "name": "#%%\n",
     "is_executing": true
    }
   }
  }
 ],
 "metadata": {
  "kernelspec": {
   "display_name": "Python 3",
   "language": "python",
   "name": "python3"
  },
  "language_info": {
   "codemirror_mode": {
    "name": "ipython",
    "version": 2
   },
   "file_extension": ".py",
   "mimetype": "text/x-python",
   "name": "python",
   "nbconvert_exporter": "python",
   "pygments_lexer": "ipython2",
   "version": "2.7.6"
  }
 },
 "nbformat": 4,
 "nbformat_minor": 0
}